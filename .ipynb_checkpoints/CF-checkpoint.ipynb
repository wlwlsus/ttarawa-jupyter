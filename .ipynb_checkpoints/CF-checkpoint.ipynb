{
 "cells": [
  {
   "cell_type": "code",
   "execution_count": null,
   "id": "c2650d47",
   "metadata": {},
   "outputs": [],
   "source": [
    "import pandas as pd\n",
    "from sklearn.metrics.pairwise import cosine_similarity\n",
    "\n",
    "rating_data = pd.read_csv('./data/ratings.csv')\n",
    "movie_data = pd.read_csv('./data/movies.csv')\n",
    "\n",
    "rating_data.head(2)"
   ]
  },
  {
   "cell_type": "code",
   "execution_count": null,
   "id": "634ec3fe",
   "metadata": {
    "scrolled": true
   },
   "outputs": [],
   "source": [
    "movie_data.head(2)"
   ]
  },
  {
   "cell_type": "code",
   "execution_count": null,
   "id": "86d9aebf",
   "metadata": {},
   "outputs": [],
   "source": [
    "rating_data.drop('timestamp', axis = 1, inplace = True)\n",
    "rating_data.head(2)"
   ]
  },
  {
   "cell_type": "code",
   "execution_count": null,
   "id": "1eec5c3b",
   "metadata": {
    "scrolled": true
   },
   "outputs": [],
   "source": [
    "movie_user_rating = user_movie_rating.pivot_table('rating', index ='title', columns='userId')\n",
    "user_movie_rating = user_movie_rating.pivot_table('ㅁㅁㅁㅁㅁㅁd =', index='ㄷㄷㄷㄷㄷ',columns='zzz')"
   ]
  },
  {
   "cell_type": "code",
   "execution_count": null,
   "id": "a6bea378",
   "metadata": {},
   "outputs": [],
   "source": [
    "user_movie_rating"
   ]
  },
  {
   "cell_type": "code",
   "execution_count": null,
   "id": "09439a79",
   "metadata": {},
   "outputs": [],
   "source": [
    "user_movie_rating.head(5)"
   ]
  },
  {
   "cell_type": "code",
   "execution_count": null,
   "id": "7453ec0d",
   "metadata": {},
   "outputs": [],
   "source": [
    "movie_user_rating.head()"
   ]
  },
  {
   "cell_type": "code",
   "execution_count": null,
   "id": "6822eac2",
   "metadata": {},
   "outputs": [],
   "source": [
    "movie_user_rating.fillna(0, inplace = True)\n",
    "movie_user_rating.head(3)"
   ]
  },
  {
   "cell_type": "code",
   "execution_count": null,
   "id": "955773e0",
   "metadata": {},
   "outputs": [],
   "source": [
    "item_based_collabor = cosine_similarity(movie_user_rating)\n",
    "item_based_collabor"
   ]
  },
  {
   "cell_type": "code",
   "execution_count": null,
   "id": "26f63488",
   "metadata": {},
   "outputs": [],
   "source": [
    "item_based_collabor = pd.DataFrame(data = item_based_collabor, index = movie_user_rating.index, columns = movie_user_rating.index)"
   ]
  },
  {
   "cell_type": "code",
   "execution_count": null,
   "id": "96fe7db2",
   "metadata": {},
   "outputs": [],
   "source": [
    "movie_user_rating"
   ]
  },
  {
   "cell_type": "code",
   "execution_count": null,
   "id": "5fb9f66b",
   "metadata": {},
   "outputs": [],
   "source": [
    "item_based_collabor"
   ]
  },
  {
   "cell_type": "code",
   "execution_count": null,
   "id": "6c373790",
   "metadata": {
    "scrolled": true
   },
   "outputs": [],
   "source": [
    "import pandas as pd\n",
    "from sklearn.metrics.pairwise import cosine_similarity\n",
    "\n",
    "rating_data = pd.read_csv('./data/all-spot.csv', encoding='cp949')\n",
    "# movie_data = pd.read_csv('./data/movies.csv')\n",
    "\n",
    "rating_data.head(100)"
   ]
  },
  {
   "cell_type": "code",
   "execution_count": null,
   "id": "3d00c54d",
   "metadata": {},
   "outputs": [],
   "source": [
    "# rating과 reviews 컬럼 추출\n",
    "ratings = rating_data['rating']\n",
    "reviews = rating_data['reviews']\n",
    "\n",
    "# NaN 값이 있는 행 제거\n",
    "ratings = ratings.dropna()\n",
    "reviews = reviews.dropna()"
   ]
  },
  {
   "cell_type": "code",
   "execution_count": null,
   "id": "556a2345",
   "metadata": {},
   "outputs": [],
   "source": [
    "# from sklearn.metrics.pairwise import cosine_similarity\n",
    "# from sklearn.preprocessing import MinMaxScaler\n",
    "\n",
    "# # rating과 reviews 값 정규화\n",
    "# scaler = MinMaxScaler()\n",
    "# ratings_norm = scaler.fit_transform(ratings.values.reshape(-1, 1))\n",
    "# reviews_norm = scaler.fit_transform(reviews.values.reshape(-1, 1))\n",
    "\n",
    "# # 정규화된 rating과 reviews를 합쳐서 하나의 배열로 만듦\n",
    "# features = pd.concat([pd.DataFrame(ratings_norm), pd.DataFrame(reviews_norm)], axis=1)\n",
    "\n",
    "# # Cosine Similarity 계산\n",
    "# sim_matrix = cosine_similarity(features)"
   ]
  },
  {
   "cell_type": "code",
   "execution_count": null,
   "id": "a4d5618b",
   "metadata": {},
   "outputs": [],
   "source": [
    "# for i in sim_matrix:\n",
    "#     for j in i:\n",
    "#         print(j, end=\" \")\n",
    "#     print()"
   ]
  },
  {
   "cell_type": "code",
   "execution_count": null,
   "id": "f7684cd8",
   "metadata": {},
   "outputs": [],
   "source": [
    "sim_matrix[1][1]"
   ]
  },
  {
   "cell_type": "code",
   "execution_count": null,
   "id": "c5395fbd",
   "metadata": {},
   "outputs": [],
   "source": [
    "import numpy as np\n",
    "\n",
    "# rating과 reviews의 가중치를 지정\n",
    "rating_weight = 0.6\n",
    "reviews_weight = 0.4\n",
    "\n",
    "# 정규화된 rating과 reviews 값을 이용하여 가중평균 계산\n",
    "weighted_rating = ratings_norm * rating_weight + reviews_norm * reviews_weight\n",
    "\n",
    "# Cosine Similarity 계산\n",
    "sim_matrix = cosine_similarity(weighted_rating)\n"
   ]
  },
  {
   "cell_type": "code",
   "execution_count": null,
   "id": "2c1ce64d",
   "metadata": {},
   "outputs": [],
   "source": [
    "print(sim_matrix[3500][500])"
   ]
  },
  {
   "cell_type": "code",
   "execution_count": null,
   "id": "e749e22e",
   "metadata": {},
   "outputs": [],
   "source": [
    "print(sim_matrix[0][1])"
   ]
  },
  {
   "cell_type": "code",
   "execution_count": null,
   "id": "9d9457f3",
   "metadata": {
    "scrolled": true
   },
   "outputs": [],
   "source": [
    "from sklearn.metrics.pairwise import cosine_similarity\n",
    "from sklearn.preprocessing import MinMaxScaler\n",
    "\n",
    "# rating과 reviews 값 정규화\n",
    "scaler = MinMaxScaler()\n",
    "ratings_norm = scaler.fit_transform(ratings.values.reshape(-1, 1))\n",
    "reviews_norm = scaler.fit_transform(reviews.values.reshape(-1, 1))\n",
    "\n",
    "# 정규화된 rating과 reviews를 합쳐서 하나의 배열로 만듦\n",
    "features = pd.concat([pd.DataFrame(ratings_norm), pd.DataFrame(reviews_norm)], axis=1)\n",
    "\n",
    "# Cosine Similarity 계산\n",
    "sim_matrix = cosine_similarity(features)\n",
    "\n",
    "\n",
    "# 특정 목적지(행)의 이름을 지정\n",
    "destination_name = \"신세계백화점강남점\"\n",
    "\n",
    "# 특정 목적지(행)의 인덱스(index) 찾기\n",
    "destination_index = rating_data[rating_data['name'] == destination_name]\n",
    "\n",
    "print(destination_index)\n",
    "\n",
    "destination_index = destination_index.index[0]\n",
    "\n",
    "# 특정 목적지(행)과 다른 목적지(행)들과의 유사도 확인\n",
    "sim_scores = list(enumerate(sim_matrix[destination_index]))\n",
    "\n",
    "# 유사도가 높은 순서로 정렬\n",
    "sim_scores = sorted(sim_scores, key=lambda x: x[1], reverse=True)\n",
    "\n",
    "# 상위 10개 유사도 출력\n",
    "top_similarities = sim_scores[1:11]\n",
    "print(top_similarities)"
   ]
  },
  {
   "cell_type": "code",
   "execution_count": null,
   "id": "95bc9333",
   "metadata": {},
   "outputs": [],
   "source": [
    "item_based_collabor = pd.DataFrame(data = top_similarities, index = movie_user_rating.index, columns = movie_user_rating.index)"
   ]
  },
  {
   "cell_type": "code",
   "execution_count": 69,
   "id": "16ec75d0",
   "metadata": {},
   "outputs": [
    {
     "name": "stdout",
     "output_type": "stream",
     "text": [
      "10\n"
     ]
    },
    {
     "ename": "KeyError",
     "evalue": "'신세계백화점강남점'",
     "output_type": "error",
     "traceback": [
      "\u001b[1;31m---------------------------------------------------------------------------\u001b[0m",
      "\u001b[1;31mKeyError\u001b[0m                                  Traceback (most recent call last)",
      "\u001b[1;32m~\\AppData\\Local\\Temp\\ipykernel_3760\\2289092052.py\u001b[0m in \u001b[0;36m<module>\u001b[1;34m\u001b[0m\n\u001b[0;32m      2\u001b[0m \u001b[0mtop_n\u001b[0m \u001b[1;33m=\u001b[0m \u001b[1;36m10\u001b[0m\u001b[1;33m\u001b[0m\u001b[1;33m\u001b[0m\u001b[0m\n\u001b[0;32m      3\u001b[0m \u001b[0mprint\u001b[0m\u001b[1;33m(\u001b[0m\u001b[0mtop_n\u001b[0m\u001b[1;33m)\u001b[0m\u001b[1;33m\u001b[0m\u001b[1;33m\u001b[0m\u001b[0m\n\u001b[1;32m----> 4\u001b[1;33m \u001b[0mtop_destinations\u001b[0m \u001b[1;33m=\u001b[0m \u001b[0mdf_sim_matrix\u001b[0m\u001b[1;33m[\u001b[0m\u001b[0mdestination_name\u001b[0m\u001b[1;33m]\u001b[0m\u001b[1;33m.\u001b[0m\u001b[0msort_values\u001b[0m\u001b[1;33m(\u001b[0m\u001b[0mascending\u001b[0m\u001b[1;33m=\u001b[0m\u001b[1;32mFalse\u001b[0m\u001b[1;33m)\u001b[0m\u001b[1;33m[\u001b[0m\u001b[1;33m:\u001b[0m\u001b[0mtop_n\u001b[0m\u001b[1;33m]\u001b[0m\u001b[1;33m.\u001b[0m\u001b[0mindex\u001b[0m\u001b[1;33m.\u001b[0m\u001b[0mtolist\u001b[0m\u001b[1;33m(\u001b[0m\u001b[1;33m)\u001b[0m\u001b[1;33m\u001b[0m\u001b[1;33m\u001b[0m\u001b[0m\n\u001b[0m\u001b[0;32m      5\u001b[0m \u001b[1;33m\u001b[0m\u001b[0m\n\u001b[0;32m      6\u001b[0m \u001b[1;31m# 결과 출력\u001b[0m\u001b[1;33m\u001b[0m\u001b[1;33m\u001b[0m\u001b[0m\n",
      "\u001b[1;32m~\\anaconda3\\lib\\site-packages\\pandas\\core\\frame.py\u001b[0m in \u001b[0;36m__getitem__\u001b[1;34m(self, key)\u001b[0m\n\u001b[0;32m   3503\u001b[0m             \u001b[1;32mif\u001b[0m \u001b[0mself\u001b[0m\u001b[1;33m.\u001b[0m\u001b[0mcolumns\u001b[0m\u001b[1;33m.\u001b[0m\u001b[0mnlevels\u001b[0m \u001b[1;33m>\u001b[0m \u001b[1;36m1\u001b[0m\u001b[1;33m:\u001b[0m\u001b[1;33m\u001b[0m\u001b[1;33m\u001b[0m\u001b[0m\n\u001b[0;32m   3504\u001b[0m                 \u001b[1;32mreturn\u001b[0m \u001b[0mself\u001b[0m\u001b[1;33m.\u001b[0m\u001b[0m_getitem_multilevel\u001b[0m\u001b[1;33m(\u001b[0m\u001b[0mkey\u001b[0m\u001b[1;33m)\u001b[0m\u001b[1;33m\u001b[0m\u001b[1;33m\u001b[0m\u001b[0m\n\u001b[1;32m-> 3505\u001b[1;33m             \u001b[0mindexer\u001b[0m \u001b[1;33m=\u001b[0m \u001b[0mself\u001b[0m\u001b[1;33m.\u001b[0m\u001b[0mcolumns\u001b[0m\u001b[1;33m.\u001b[0m\u001b[0mget_loc\u001b[0m\u001b[1;33m(\u001b[0m\u001b[0mkey\u001b[0m\u001b[1;33m)\u001b[0m\u001b[1;33m\u001b[0m\u001b[1;33m\u001b[0m\u001b[0m\n\u001b[0m\u001b[0;32m   3506\u001b[0m             \u001b[1;32mif\u001b[0m \u001b[0mis_integer\u001b[0m\u001b[1;33m(\u001b[0m\u001b[0mindexer\u001b[0m\u001b[1;33m)\u001b[0m\u001b[1;33m:\u001b[0m\u001b[1;33m\u001b[0m\u001b[1;33m\u001b[0m\u001b[0m\n\u001b[0;32m   3507\u001b[0m                 \u001b[0mindexer\u001b[0m \u001b[1;33m=\u001b[0m \u001b[1;33m[\u001b[0m\u001b[0mindexer\u001b[0m\u001b[1;33m]\u001b[0m\u001b[1;33m\u001b[0m\u001b[1;33m\u001b[0m\u001b[0m\n",
      "\u001b[1;32m~\\anaconda3\\lib\\site-packages\\pandas\\core\\indexes\\range.py\u001b[0m in \u001b[0;36mget_loc\u001b[1;34m(self, key, method, tolerance)\u001b[0m\n\u001b[0;32m    387\u001b[0m                     \u001b[1;32mraise\u001b[0m \u001b[0mKeyError\u001b[0m\u001b[1;33m(\u001b[0m\u001b[0mkey\u001b[0m\u001b[1;33m)\u001b[0m \u001b[1;32mfrom\u001b[0m \u001b[0merr\u001b[0m\u001b[1;33m\u001b[0m\u001b[1;33m\u001b[0m\u001b[0m\n\u001b[0;32m    388\u001b[0m             \u001b[0mself\u001b[0m\u001b[1;33m.\u001b[0m\u001b[0m_check_indexing_error\u001b[0m\u001b[1;33m(\u001b[0m\u001b[0mkey\u001b[0m\u001b[1;33m)\u001b[0m\u001b[1;33m\u001b[0m\u001b[1;33m\u001b[0m\u001b[0m\n\u001b[1;32m--> 389\u001b[1;33m             \u001b[1;32mraise\u001b[0m \u001b[0mKeyError\u001b[0m\u001b[1;33m(\u001b[0m\u001b[0mkey\u001b[0m\u001b[1;33m)\u001b[0m\u001b[1;33m\u001b[0m\u001b[1;33m\u001b[0m\u001b[0m\n\u001b[0m\u001b[0;32m    390\u001b[0m         \u001b[1;32mreturn\u001b[0m \u001b[0msuper\u001b[0m\u001b[1;33m(\u001b[0m\u001b[1;33m)\u001b[0m\u001b[1;33m.\u001b[0m\u001b[0mget_loc\u001b[0m\u001b[1;33m(\u001b[0m\u001b[0mkey\u001b[0m\u001b[1;33m,\u001b[0m \u001b[0mmethod\u001b[0m\u001b[1;33m=\u001b[0m\u001b[0mmethod\u001b[0m\u001b[1;33m,\u001b[0m \u001b[0mtolerance\u001b[0m\u001b[1;33m=\u001b[0m\u001b[0mtolerance\u001b[0m\u001b[1;33m)\u001b[0m\u001b[1;33m\u001b[0m\u001b[1;33m\u001b[0m\u001b[0m\n\u001b[0;32m    391\u001b[0m \u001b[1;33m\u001b[0m\u001b[0m\n",
      "\u001b[1;31mKeyError\u001b[0m: '신세계백화점강남점'"
     ]
    }
   ],
   "source": [
    "# DataFrame으로부터 가장 유사한 여행지 10개 선택\n",
    "top_n = 10\n",
    "print(top_n)\n",
    "top_destinations = df_sim_matrix[destination_name].sort_values(ascending=False)[:top_n].index.tolist()\n",
    "\n",
    "# 결과 출력\n",
    "print(top_destinations)\n",
    "print(\"dd\")"
   ]
  },
  {
   "cell_type": "code",
   "execution_count": 68,
   "id": "999f69a8",
   "metadata": {},
   "outputs": [
    {
     "name": "stdout",
     "output_type": "stream",
     "text": [
      "111\n"
     ]
    }
   ],
   "source": [
    "print(111)"
   ]
  },
  {
   "cell_type": "code",
   "execution_count": 78,
   "id": "ebecf545",
   "metadata": {
    "scrolled": false
   },
   "outputs": [],
   "source": [
    "import pandas as pd\n",
    "from sklearn.metrics.pairwise import cosine_similarity\n",
    "from sklearn.preprocessing import MinMaxScaler\n",
    "\n",
    "data = \n",
    "def get_similar_destinations(destination, data):\n",
    "    # 데이터프레임을 읽어옵니다.\n",
    "    df = pd.read_csv(data, encoding='cp949')\n",
    "    \n",
    "    # 입력받은 여행지와 가장 유사한 목적지 10개를 출력하기 위해\n",
    "    # 데이터프레임의 첫 10개 행만 선택합니다.\n",
    "    df = df.head(10)\n",
    "    \n",
    "    # MinMaxScaler를 이용하여 rating과 reviews 컬럼을 정규화합니다.\n",
    "    scaler = MinMaxScaler()\n",
    "    df[['rating', 'reviews']] = scaler.fit_transform(df[['rating', 'reviews']])\n",
    "    \n",
    "    # 입력받은 여행지와 비슷한 여행지를 찾기 위해\n",
    "    # 코사인 유사도를 계산합니다.\n",
    "    similarities = cosine_similarity(df[['rating', 'reviews']])\n",
    "    \n",
    "    # 입력받은 여행지와 유사한 목적지를 찾아 출력합니다.\n",
    "    destination_index = df[df['name'] == destination].index[0]\n",
    "    similar_destinations_indices = similarities[destination_index].argsort()[::-1][1:11]\n",
    "    similar_destinations = df.iloc[similar_destinations_indices][['name', 'address', 'rating', 'reviews']]\n",
    "    print(similar_destinations)"
   ]
  },
  {
   "cell_type": "code",
   "execution_count": 86,
   "id": "577b0779",
   "metadata": {},
   "outputs": [
    {
     "name": "stdout",
     "output_type": "stream",
     "text": [
      "          name             address    rating   reviews\n",
      "9      롯데백화점본점     서울 중구 남대문로 81-0  0.000000  0.873239\n",
      "0    김포국제공항국내선    서울 강서구 하늘길 111-0  0.200000  1.000000\n",
      "6     롯데몰김포공항점     서울 강서구 하늘길 38-0  0.133333  0.380282\n",
      "5   코스트코홀세일양재점   서울 서초구 양재대로 159-0  0.200000  0.500000\n",
      "1   현대백화점압구정본점   서울 강남구 압구정로 165-0  0.200000  0.359155\n",
      "4          코엑스   서울 강남구 영동대로 513-0  0.266667  0.450704\n",
      "8      여의도한강공원  서울 영등포구 여의동로 330-0  0.733333  0.908451\n",
      "7       김포국제공항    서울 강서구 하늘길 112-0  0.533333  0.239437\n",
      "3  가락동농수산물도매시장   서울 송파구 양재대로 932-0  1.000000  0.000000\n"
     ]
    }
   ],
   "source": [
    "get_similar_destinations(\"신세계백화점강남점\", './data/all-spot.csv')"
   ]
  },
  {
   "cell_type": "code",
   "execution_count": null,
   "id": "742ded63",
   "metadata": {},
   "outputs": [],
   "source": [
    "rating_data = pd.read_csv('./data/all-spot.csv', encoding='cp949')"
   ]
  },
  {
   "cell_type": "code",
   "execution_count": null,
   "id": "acef8bde",
   "metadata": {},
   "outputs": [],
   "source": []
  },
  {
   "cell_type": "code",
   "execution_count": null,
   "id": "58425da7",
   "metadata": {},
   "outputs": [],
   "source": []
  },
  {
   "cell_type": "code",
   "execution_count": null,
   "id": "a75d27ab",
   "metadata": {},
   "outputs": [],
   "source": []
  },
  {
   "cell_type": "code",
   "execution_count": null,
   "id": "dae37c3b",
   "metadata": {},
   "outputs": [],
   "source": []
  }
 ],
 "metadata": {
  "kernelspec": {
   "display_name": "Python 3 (ipykernel)",
   "language": "python",
   "name": "python3"
  },
  "language_info": {
   "codemirror_mode": {
    "name": "ipython",
    "version": 3
   },
   "file_extension": ".py",
   "mimetype": "text/x-python",
   "name": "python",
   "nbconvert_exporter": "python",
   "pygments_lexer": "ipython3",
   "version": "3.9.13"
  }
 },
 "nbformat": 4,
 "nbformat_minor": 5
}
